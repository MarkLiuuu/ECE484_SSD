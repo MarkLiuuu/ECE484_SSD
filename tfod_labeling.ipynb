{
 "cells": [
  {
   "cell_type": "code",
   "execution_count": 1,
   "metadata": {},
   "outputs": [],
   "source": [
    "# Import opencv\n",
    "import cv2 \n",
    "\n",
    "# Import uuid\n",
    "import uuid\n",
    "\n",
    "# Import Operating System\n",
    "import os\n",
    "\n",
    "# Import time\n",
    "import time"
   ]
  },
  {
   "cell_type": "code",
   "execution_count": 2,
   "metadata": {},
   "outputs": [],
   "source": [
    "IMAGES_PATH = os.path.join('tfod', 'workspace', 'images', 'collectedimages')"
   ]
  },
  {
   "cell_type": "code",
   "execution_count": 3,
   "metadata": {},
   "outputs": [],
   "source": [
    "if not os.path.exists(IMAGES_PATH):\n",
    "    if os.name == 'posix':\n",
    "        !mkdir -p {IMAGES_PATH}\n",
    "    if os.name == 'nt':\n",
    "         !mkdir {IMAGES_PATH}\n"
   ]
  },
  {
   "cell_type": "markdown",
   "metadata": {},
   "source": [
    "# 5. Image Labelling"
   ]
  },
  {
   "cell_type": "code",
   "execution_count": 10,
   "metadata": {},
   "outputs": [
    {
     "name": "stdout",
     "output_type": "stream",
     "text": [
      "Collecting pyqt5\n",
      "  Using cached PyQt5-5.15.4-cp36.cp37.cp38.cp39-none-win_amd64.whl (6.8 MB)\n",
      "Collecting lxml\n",
      "  Using cached lxml-4.6.3-cp37-cp37m-win_amd64.whl (3.5 MB)\n",
      "Collecting PyQt5-sip<13,>=12.8\n",
      "  Using cached PyQt5_sip-12.8.1-cp37-cp37m-win_amd64.whl (62 kB)\n",
      "Collecting PyQt5-Qt5>=5.15\n",
      "  Using cached PyQt5_Qt5-5.15.2-py3-none-win_amd64.whl (50.1 MB)\n",
      "Installing collected packages: PyQt5-sip, PyQt5-Qt5, pyqt5, lxml\n",
      "Successfully installed PyQt5-Qt5-5.15.2 PyQt5-sip-12.8.1 lxml-4.6.3 pyqt5-5.15.4\n"
     ]
    }
   ],
   "source": [
    "# !pip install --upgrade pyqt5 lxml"
   ]
  },
  {
   "cell_type": "code",
   "execution_count": 4,
   "metadata": {},
   "outputs": [],
   "source": [
    "LABELIMG_PATH = os.path.join('tfod', 'labelimg')"
   ]
  },
  {
   "cell_type": "code",
   "execution_count": 5,
   "metadata": {},
   "outputs": [
    {
     "name": "stderr",
     "output_type": "stream",
     "text": [
      "Cloning into 'tfod\\labelimg'...\n",
      "Updating files:  28% (31/108)\n",
      "Updating files:  29% (32/108)\n",
      "Updating files:  30% (33/108)\n",
      "Updating files:  31% (34/108)\n",
      "Updating files:  32% (35/108)\n",
      "Updating files:  33% (36/108)\n",
      "Updating files:  34% (37/108)\n",
      "Updating files:  35% (38/108)\n",
      "Updating files:  36% (39/108)\n",
      "Updating files:  37% (40/108)\n",
      "Updating files:  38% (42/108)\n",
      "Updating files:  39% (43/108)\n",
      "Updating files:  40% (44/108)\n",
      "Updating files:  41% (45/108)\n",
      "Updating files:  42% (46/108)\n",
      "Updating files:  43% (47/108)\n",
      "Updating files:  44% (48/108)\n",
      "Updating files:  45% (49/108)\n",
      "Updating files:  46% (50/108)\n",
      "Updating files:  47% (51/108)\n",
      "Updating files:  48% (52/108)\n",
      "Updating files:  49% (53/108)\n",
      "Updating files:  50% (54/108)\n",
      "Updating files:  51% (56/108)\n",
      "Updating files:  52% (57/108)\n",
      "Updating files:  53% (58/108)\n",
      "Updating files:  54% (59/108)\n",
      "Updating files:  55% (60/108)\n",
      "Updating files:  56% (61/108)\n",
      "Updating files:  57% (62/108)\n",
      "Updating files:  58% (63/108)\n",
      "Updating files:  59% (64/108)\n",
      "Updating files:  60% (65/108)\n",
      "Updating files:  61% (66/108)\n",
      "Updating files:  62% (67/108)\n",
      "Updating files:  63% (69/108)\n",
      "Updating files:  64% (70/108)\n",
      "Updating files:  65% (71/108)\n",
      "Updating files:  66% (72/108)\n",
      "Updating files:  67% (73/108)\n",
      "Updating files:  68% (74/108)\n",
      "Updating files:  69% (75/108)\n",
      "Updating files:  70% (76/108)\n",
      "Updating files:  71% (77/108)\n",
      "Updating files:  72% (78/108)\n",
      "Updating files:  73% (79/108)\n",
      "Updating files:  74% (80/108)\n",
      "Updating files:  75% (81/108)\n",
      "Updating files:  76% (83/108)\n",
      "Updating files:  77% (84/108)\n",
      "Updating files:  78% (85/108)\n",
      "Updating files:  79% (86/108)\n",
      "Updating files:  80% (87/108)\n",
      "Updating files:  81% (88/108)\n",
      "Updating files:  82% (89/108)\n",
      "Updating files:  83% (90/108)\n",
      "Updating files:  84% (91/108)\n",
      "Updating files:  85% (92/108)\n",
      "Updating files:  86% (93/108)\n",
      "Updating files:  87% (94/108)\n",
      "Updating files:  88% (96/108)\n",
      "Updating files:  89% (97/108)\n",
      "Updating files:  90% (98/108)\n",
      "Updating files:  91% (99/108)\n",
      "Updating files:  92% (100/108)\n",
      "Updating files:  93% (101/108)\n",
      "Updating files:  94% (102/108)\n",
      "Updating files:  95% (103/108)\n",
      "Updating files:  96% (104/108)\n",
      "Updating files:  97% (105/108)\n",
      "Updating files:  98% (106/108)\n",
      "Updating files:  99% (107/108)\n",
      "Updating files: 100% (108/108)\n",
      "Updating files: 100% (108/108), done.\n"
     ]
    }
   ],
   "source": [
    "if not os.path.exists(LABELIMG_PATH):\n",
    "    !mkdir {LABELIMG_PATH}\n",
    "    !git clone https://github.com/tzutalin/labelImg {LABELIMG_PATH}"
   ]
  },
  {
   "cell_type": "code",
   "execution_count": 6,
   "metadata": {},
   "outputs": [],
   "source": [
    "if os.name == 'posix':\n",
    "    !cd {LABELIMG_PATH} && make qt5py3\n",
    "if os.name =='nt':\n",
    "    !cd {LABELIMG_PATH} && pyrcc5 -o libs/resources.py resources.qrc"
   ]
  },
  {
   "cell_type": "code",
   "execution_count": 11,
   "metadata": {},
   "outputs": [
    {
     "name": "stdout",
     "output_type": "stream",
     "text": [
      "Image:F:\\CWRU Courses\\ECE 484\\tfod\\example\\tfod\\workspace\\images\\collectedimages\\Good_1.jpg -> Annotation:F:/CWRU Courses/ECE 484/tfod/example/tfod/workspace/images/collectedimages/Good_1.xml"
     ]
    },
    {
     "name": "stderr",
     "output_type": "stream",
     "text": [
      "labelImg.py:210: DeprecationWarning: an integer is required (got type DockWidgetFeatures).  Implicit conversion to integers using __int__ is deprecated, and may be removed in a future version of Python.\n",
      "  self.dock.setFeatures(self.dock.features() ^ self.dock_features)\n"
     ]
    },
    {
     "name": "stdout",
     "output_type": "stream",
     "text": [
      "\n",
      "Image:F:\\CWRU Courses\\ECE 484\\tfod\\example\\tfod\\workspace\\images\\patch\\Good_1.jpg -> Annotation:F:/CWRU Courses/ECE 484/tfod/example/tfod/workspace/images/patch/Good_1.xml\n",
      "Image:F:\\CWRU Courses\\ECE 484\\tfod\\example\\tfod\\workspace\\images\\patch\\Good_2.jpg -> Annotation:F:/CWRU Courses/ECE 484/tfod/example/tfod/workspace/images/patch/Good_2.xml\n",
      "Image:F:\\CWRU Courses\\ECE 484\\tfod\\example\\tfod\\workspace\\images\\patch\\Good_3.jpg -> Annotation:F:/CWRU Courses/ECE 484/tfod/example/tfod/workspace/images/patch/Good_3.xml\n",
      "Image:F:\\CWRU Courses\\ECE 484\\tfod\\example\\tfod\\workspace\\images\\patch\\H5_1.jpg -> Annotation:F:/CWRU Courses/ECE 484/tfod/example/tfod/workspace/images/patch/H5_1.xml\n",
      "Image:F:\\CWRU Courses\\ECE 484\\tfod\\example\\tfod\\workspace\\images\\patch\\H5_2.jpg -> Annotation:F:/CWRU Courses/ECE 484/tfod/example/tfod/workspace/images/patch/H5_2.xml\n",
      "Image:F:\\CWRU Courses\\ECE 484\\tfod\\example\\tfod\\workspace\\images\\patch\\H5_3.jpg -> Annotation:F:/CWRU Courses/ECE 484/tfod/example/tfod/workspace/images/patch/H5_3.xml\n",
      "Image:F:\\CWRU Courses\\ECE 484\\tfod\\example\\tfod\\workspace\\images\\patch\\PR_1.jpg -> Annotation:F:/CWRU Courses/ECE 484/tfod/example/tfod/workspace/images/patch/PR_1.xml\n",
      "Image:F:\\CWRU Courses\\ECE 484\\tfod\\example\\tfod\\workspace\\images\\patch\\PU_1.jpg -> Annotation:F:/CWRU Courses/ECE 484/tfod/example/tfod/workspace/images/patch/PU_1.xml\n",
      "Image:F:\\CWRU Courses\\ECE 484\\tfod\\example\\tfod\\workspace\\images\\patch\\PU_2.jpg -> Annotation:F:/CWRU Courses/ECE 484/tfod/example/tfod/workspace/images/patch/PU_2.xml\n",
      "Image:F:\\CWRU Courses\\ECE 484\\tfod\\example\\tfod\\workspace\\images\\patch\\PU_1.jpg -> Annotation:F:/CWRU Courses/ECE 484/tfod/example/tfod/workspace/images/patch/PU_1.xml\n",
      "Image:F:\\CWRU Courses\\ECE 484\\tfod\\example\\tfod\\workspace\\images\\patch\\PR_1.jpg -> Annotation:F:/CWRU Courses/ECE 484/tfod/example/tfod/workspace/images/patch/PR_1.xml\n"
     ]
    }
   ],
   "source": [
    "!cd {LABELIMG_PATH} && python labelImg.py"
   ]
  },
  {
   "cell_type": "markdown",
   "metadata": {},
   "source": [
    "# 6. Move them into a Training and Testing Partition"
   ]
  },
  {
   "cell_type": "markdown",
   "metadata": {},
   "source": [
    "# OPTIONAL - 7. Compress them for Colab Training"
   ]
  },
  {
   "cell_type": "code",
   "execution_count": 12,
   "metadata": {},
   "outputs": [],
   "source": [
    "TRAIN_PATH = os.path.join('tfod', 'workspace', 'images', 'train')\n",
    "TEST_PATH = os.path.join('tfod', 'workspace', 'images', 'test')\n",
    "ARCHIVE_PATH = os.path.join('tfod', 'workspace', 'images', 'archive.tar.gz')"
   ]
  },
  {
   "cell_type": "code",
   "execution_count": 13,
   "metadata": {},
   "outputs": [],
   "source": [
    "!tar -czf {ARCHIVE_PATH} {TRAIN_PATH} {TEST_PATH}"
   ]
  },
  {
   "cell_type": "code",
   "execution_count": null,
   "metadata": {},
   "outputs": [],
   "source": []
  }
 ],
 "metadata": {
  "interpreter": {
   "hash": "56367c02e77b3cce5b23b68e6af8cef76d756dc6a283f6e5aee95bb15d2a4fea"
  },
  "kernelspec": {
   "display_name": "tfod",
   "language": "python",
   "name": "python3"
  },
  "language_info": {
   "codemirror_mode": {
    "name": "ipython",
    "version": 3
   },
   "file_extension": ".py",
   "mimetype": "text/x-python",
   "name": "python",
   "nbconvert_exporter": "python",
   "pygments_lexer": "ipython3",
   "version": "3.8.5"
  }
 },
 "nbformat": 4,
 "nbformat_minor": 2
}
